{
 "cells": [
  {
   "cell_type": "markdown",
   "metadata": {
    "collapsed": true
   },
   "source": [
    "# Inspecting Data Types\n",
    "Use the space below to explore `data_08_v2.csv` and `data_18_v2.csv` to answer the quiz questions below regarding datatypes. You should've created these data files in the previous section: *Filter, Drop Nulls, Dedupe*."
   ]
  },
  {
   "cell_type": "code",
   "execution_count": 1,
   "metadata": {},
   "outputs": [],
   "source": [
    "import pandas as pd\n",
    "\n",
    "df_08 = pd.read_csv('data_08_v2.csv')\n",
    "df_18 = pd.read_csv('data_18_v2.csv')"
   ]
  },
  {
   "cell_type": "code",
   "execution_count": 26,
   "metadata": {},
   "outputs": [
    {
     "data": {
      "text/plain": [
       "0      4\n",
       "1      5\n",
       "2      5\n",
       "3      6\n",
       "4      6\n",
       "5      6\n",
       "6      6\n",
       "7      7\n",
       "8      0\n",
       "9      1\n",
       "10     0\n",
       "11     1\n",
       "12     3\n",
       "13     3\n",
       "14     7\n",
       "15     7\n",
       "16     6\n",
       "17     7\n",
       "18     5\n",
       "19     6\n",
       "20     6\n",
       "21     5\n",
       "22     6\n",
       "23     6\n",
       "24     6\n",
       "25     6\n",
       "26     5\n",
       "27     6\n",
       "28     5\n",
       "29     5\n",
       "      ..\n",
       "956    6\n",
       "957    7\n",
       "958    7\n",
       "959    7\n",
       "960    6\n",
       "961    6\n",
       "962    6\n",
       "963    7\n",
       "964    6\n",
       "965    6\n",
       "966    6\n",
       "967    6\n",
       "968    6\n",
       "969    6\n",
       "970    5\n",
       "971    5\n",
       "972    5\n",
       "973    5\n",
       "974    7\n",
       "975    7\n",
       "976    7\n",
       "977    6\n",
       "978    6\n",
       "979    6\n",
       "980    7\n",
       "981    5\n",
       "982    4\n",
       "983    4\n",
       "984    4\n",
       "985    3\n",
       "Name: greenhouse_gas_score, Length: 986, dtype: object"
      ]
     },
     "execution_count": 26,
     "metadata": {},
     "output_type": "execute_result"
    }
   ],
   "source": [
    "df_08['greenhouse_gas_score']"
   ]
  },
  {
   "cell_type": "code",
   "execution_count": null,
   "metadata": {},
   "outputs": [],
   "source": []
  }
 ],
 "metadata": {
  "kernelspec": {
   "display_name": "Python 3",
   "language": "python",
   "name": "python3"
  },
  "language_info": {
   "codemirror_mode": {
    "name": "ipython",
    "version": 3
   },
   "file_extension": ".py",
   "mimetype": "text/x-python",
   "name": "python",
   "nbconvert_exporter": "python",
   "pygments_lexer": "ipython3",
   "version": "3.6.3"
  }
 },
 "nbformat": 4,
 "nbformat_minor": 2
}
